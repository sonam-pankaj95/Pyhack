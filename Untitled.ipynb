{
 "cells": [
  {
   "cell_type": "code",
   "execution_count": null,
   "metadata": {},
   "outputs": [],
   "source": [
    "import requests\n",
    "import jsons\n",
    "import pandas as pd\n",
    "\n",
    "\n",
    "def getCmSubList():\n",
    "\n",
    "    subjectListURL = 'https://pyhack-dot-pharmanlp-177020.uc.r.appspot.com/api/1/StudyHack/cm/subject/list/'\n",
    "    r = requests.get(subjectListURL)\n",
    "\n",
    "    subList = r.json()['data']\n",
    "\n",
    "    return subList\n",
    "\n",
    "\n",
    "def getAeSubList():\n",
    "    subjectListURL = 'https://pyhack-dot-pharmanlp-177020.uc.r.appspot.com/api/1/StudyHack/ae/subject/list/'\n",
    "    r = requests.get(subjectListURL)\n",
    "\n",
    "    subList = r.json()['data']\n",
    "\n",
    "    return subList\n",
    "\n",
    "\n",
    "def getAeData(subjectID):\n",
    "    url = 'https://pyhack-dot-pharmanlp-177020.uc.r.appspot.com/api/1/StudyHack/ae/subject/' + \\\n",
    "        str(subjectID)+'/list/'\n",
    "    r = requests.get(url)\n",
    "\n",
    "    data = r.json()['data']\n",
    "\n",
    "    return data\n",
    "\n",
    "\n",
    "def getCmData(subjectID):\n",
    "    url = 'https://pyhack-dot-pharmanlp-177020.uc.r.appspot.com/api/1/StudyHack/cm/subject/' + \\\n",
    "        str(subjectID)+'/list/'\n",
    "    r = requests.get(url)\n",
    "\n",
    "    data = r.json()['data']\n",
    "\n",
    "    return data\n",
    "\n",
    "\n",
    "rowsAe = []\n",
    "rowsCm = []\n",
    "for i in getAeSubList():\n",
    "    subData = getAeData(i)\n",
    "    for j in subData:\n",
    "\n",
    "        rowsAe.append(j)\n",
    "\n",
    "print(rowsCm)\n",
    "\n",
    "for i in getCmSubList():\n",
    "    subData = getCmData(i)\n",
    "    for j in subData:\n",
    "\n",
    "        rowsCm.append(j)\n",
    "\n",
    "print(rowsAe)\n",
    "\n",
    "frameAe = pd.DataFrame.from_dict(rowsAe)\n",
    "frameCm = pd.DataFrame.from_dict(rowsCm)"
   ]
  },
  {
   "cell_type": "code",
   "execution_count": 1,
   "metadata": {},
   "outputs": [],
   "source": [
    "import numpy as np\n",
    "import pandas as pd\n",
    "import seaborn as sns\n",
    "import matplotlib.pyplot as plt\n",
    "%matplotlib inline\n",
    "\n",
    "# Read the data set of \"Marketing Analysis\" in data.\n",
    "data_AE= pd.read_excel(\"AE_data_sample.xlsx\")\n",
    "data_CM = pd.read_excel(\"cm_data_sample.xlsx\")\n"
   ]
  },
  {
   "cell_type": "code",
   "execution_count": 7,
   "metadata": {},
   "outputs": [
    {
     "name": "stdout",
     "output_type": "stream",
     "text": [
      "      STUDYID  SITEID    SUBJID  SUBJECTID  VISITINDEX VISITNAM FORMNAME  \\\n",
      "29  StudyHack    5185  51855001   11332935           1     AECM    AE203   \n",
      "\n",
      "    FORMID  FORMIDX        FORMINDEX  ...  AEACN3_C AEACN3 AEACN3_1_C  \\\n",
      "29   38451        2  603000000000000  ...       NaN    NaN        NaN   \n",
      "\n",
      "   AEACN3_1  AERELNST_C AERELNST AERELNST_ND  AERELT AEOUT_C AEOUT  \n",
      "29      NaN         NaN      NaN         NaN     NaN     NaN   NaN  \n",
      "\n",
      "[1 rows x 88 columns]\n"
     ]
    }
   ],
   "source": [
    "data_AE\n",
    "data_AE_duplicate = data_AE[data_AE.duplicated(['SUBJID','AETERM', 'AESTDAT'])]\n",
    "print(data_AE_duplicate)"
   ]
  },
  {
   "cell_type": "code",
   "execution_count": 10,
   "metadata": {},
   "outputs": [
    {
     "name": "stdout",
     "output_type": "stream",
     "text": [
      "      STUDYID  SITEID    SUBJID  SUBJECTID  VISITINDEX VISITNAM FORMNAME  \\\n",
      "29  StudyHack    5185  51855001   11332935           1     AECM    AE203   \n",
      "\n",
      "    FORMID  FORMIDX        FORMINDEX  ...  AEACN3_C AEACN3 AEACN3_1_C  \\\n",
      "29   38451        2  603000000000000  ...       NaN    NaN        NaN   \n",
      "\n",
      "   AEACN3_1  AERELNST_C AERELNST AERELNST_ND  AERELT AEOUT_C AEOUT  \n",
      "29      NaN         NaN      NaN         NaN     NaN     NaN   NaN  \n",
      "\n",
      "[1 rows x 88 columns]\n"
     ]
    }
   ],
   "source": [
    "data_CM\n",
    "data_CM_duplicate = data_CM[data_CM.duplicated(['SUBJID','CMONGO', 'CMTRT'])]\n",
    "print(data_AE_duplicate)"
   ]
  },
  {
   "cell_type": "code",
   "execution_count": 23,
   "metadata": {},
   "outputs": [
    {
     "data": {
      "text/html": [
       "<div>\n",
       "<style scoped>\n",
       "    .dataframe tbody tr th:only-of-type {\n",
       "        vertical-align: middle;\n",
       "    }\n",
       "\n",
       "    .dataframe tbody tr th {\n",
       "        vertical-align: top;\n",
       "    }\n",
       "\n",
       "    .dataframe thead th {\n",
       "        text-align: right;\n",
       "    }\n",
       "</style>\n",
       "<table border=\"1\" class=\"dataframe\">\n",
       "  <thead>\n",
       "    <tr style=\"text-align: right;\">\n",
       "      <th></th>\n",
       "      <th>STUDYID_x</th>\n",
       "      <th>SITEID_x</th>\n",
       "      <th>SUBJID</th>\n",
       "      <th>SUBJECTID_x</th>\n",
       "      <th>VISITINDEX</th>\n",
       "      <th>VISITNAM_x</th>\n",
       "      <th>FORMNAME_x</th>\n",
       "      <th>FORMID_x</th>\n",
       "      <th>FORMIDX_x</th>\n",
       "      <th>FORMINDEX_x</th>\n",
       "      <th>...</th>\n",
       "      <th>CMSTDAT_DTS</th>\n",
       "      <th>CMENDAT</th>\n",
       "      <th>CMENDAT_DTR</th>\n",
       "      <th>CMENDAT_DTS</th>\n",
       "      <th>CMONGO</th>\n",
       "      <th>CMONGO_C</th>\n",
       "      <th>CMONGO_ND</th>\n",
       "      <th>COMPTERM_y</th>\n",
       "      <th>CMDECOD</th>\n",
       "      <th>SITENO</th>\n",
       "    </tr>\n",
       "  </thead>\n",
       "  <tbody>\n",
       "  </tbody>\n",
       "</table>\n",
       "<p>0 rows × 136 columns</p>\n",
       "</div>"
      ],
      "text/plain": [
       "Empty DataFrame\n",
       "Columns: [STUDYID_x, SITEID_x, SUBJID, SUBJECTID_x, VISITINDEX, VISITNAM_x, FORMNAME_x, FORMID_x, FORMIDX_x, FORMINDEX_x, DOV, AEMEYN, AEMEYN_C, AECAT, AECAT_C, AETERM, AEMEDRG, AEINPKG, AESTDAT, AESTDAT_DTS, AESTDAT_ND, AESTDME, AESTDME_C, AEENDAT, AEENDAT_DTS, AEENDAT_ND, AEDIS, AEDIS_C, AEMERAE, AEMERAE_C, AESPID, AENDGIV, AENDGIV_C, AECMGIV, AECMGIV_C, AECMGIV_ND, AEREFID, COMPTERM_x, AELLT, AEDECOD, AEHLT, AEHLGT, AESOC, AEMEDRG_C, AESPID_1, AEYN, AEYN_C, AEONGO_C, AEONGO, AETOXGR_C, AETOXGR, AESER_C, AESER, AERME_C, AERME, AETRT1, AETRT3_C, AEREL1_C, AEREL1, AEREL1_ND, AEACN1_C, AEACN1, AEACN1_1_C, AEACN1_1, AETRT2, AETRT2_ND, AETRT2_C, AEREL2_C, AEREL2, AEREL2_ND, AEACN2_C, AEACN2, AEACN2_1_C, AEACN2_1, AETRT3, AETRT1_C, AEREL3_C, AEREL3, AEACN3_C, AEACN3, AEACN3_1_C, AEACN3_1, AERELNST_C, AERELNST, AERELNST_ND, AERELT, AEOUT_C, AEOUT, STUDYID_y, SITEID_y, SUBJECTID_y, VISITID, VISITIDX, VISITNAM_y, FORMNAME_y, FORMID_y, FORMIDX_y, FORMINDEX_y, CMYN, CMYN_C, ...]\n",
       "Index: []\n",
       "\n",
       "[0 rows x 136 columns]"
      ]
     },
     "execution_count": 23,
     "metadata": {},
     "output_type": "execute_result"
    }
   ],
   "source": [
    "mergedStuff = pd.merge(data_AE, data_CM, on=['SUBJID'])\n",
    "mergedStuff.head(10)"
   ]
  },
  {
   "cell_type": "code",
   "execution_count": 36,
   "metadata": {},
   "outputs": [
    {
     "ename": "TypeError",
     "evalue": "'<' not supported between instances of 'DataFrameGroupBy' and 'DataFrameGroupBy'",
     "output_type": "error",
     "traceback": [
      "\u001b[0;31m---------------------------------------------------------------------------\u001b[0m",
      "\u001b[0;31mTypeError\u001b[0m                                 Traceback (most recent call last)",
      "\u001b[0;32m<ipython-input-36-d169ef649b58>\u001b[0m in \u001b[0;36m<module>\u001b[0;34m\u001b[0m\n\u001b[1;32m      4\u001b[0m \u001b[0;31m#df[df['newest_date_available'] < date_before]\u001b[0m\u001b[0;34m\u001b[0m\u001b[0;34m\u001b[0m\u001b[0;34m\u001b[0m\u001b[0m\n\u001b[1;32m      5\u001b[0m \u001b[0;34m\u001b[0m\u001b[0m\n\u001b[0;32m----> 6\u001b[0;31m \u001b[0ma\u001b[0m \u001b[0;34m=\u001b[0m \u001b[0mdata_AE_subjid\u001b[0m \u001b[0;34m<\u001b[0m \u001b[0mdata_CM_subjid\u001b[0m\u001b[0;34m\u001b[0m\u001b[0;34m\u001b[0m\u001b[0m\n\u001b[0m",
      "\u001b[0;31mTypeError\u001b[0m: '<' not supported between instances of 'DataFrameGroupBy' and 'DataFrameGroupBy'"
     ]
    }
   ],
   "source": [
    "data_AE_subjid = data_AE.groupby(['SUBJID', 'AESTDAT']) \n",
    "data_CM_subjid = data_CM.groupby(['SUBJID', 'CMSTDAT']) \n",
    "\n",
    "#df[df['newest_date_available'] < date_before]\n"
   ]
  },
  {
   "cell_type": "code",
   "execution_count": null,
   "metadata": {},
   "outputs": [],
   "source": [
    "mergedStuff = pd.merge(df, df2, on=['Name'], how='inner')\n",
    "mergedStuff.head()"
   ]
  },
  {
   "cell_type": "code",
   "execution_count": 10,
   "metadata": {},
   "outputs": [
    {
     "ename": "ValueError",
     "evalue": "zero-size array to reduction operation minimum which has no identity",
     "output_type": "error",
     "traceback": [
      "\u001b[0;31m---------------------------------------------------------------------------\u001b[0m",
      "\u001b[0;31mValueError\u001b[0m                                Traceback (most recent call last)",
      "\u001b[0;32m<ipython-input-10-6c4db37e64b4>\u001b[0m in \u001b[0;36m<module>\u001b[0;34m\u001b[0m\n\u001b[1;32m      2\u001b[0m \u001b[0;34m\u001b[0m\u001b[0m\n\u001b[1;32m      3\u001b[0m \u001b[0;31m#plot the correlation matrix of salary, balance and age in data dataframe.\u001b[0m\u001b[0;34m\u001b[0m\u001b[0;34m\u001b[0m\u001b[0;34m\u001b[0m\u001b[0m\n\u001b[0;32m----> 4\u001b[0;31m \u001b[0msns\u001b[0m\u001b[0;34m.\u001b[0m\u001b[0mheatmap\u001b[0m\u001b[0;34m(\u001b[0m\u001b[0mdata_CM\u001b[0m\u001b[0;34m[\u001b[0m\u001b[0;34m[\u001b[0m\u001b[0;34m'CMPRIOR'\u001b[0m\u001b[0;34m,\u001b[0m \u001b[0;34m'CMYN'\u001b[0m\u001b[0;34m]\u001b[0m\u001b[0;34m]\u001b[0m\u001b[0;34m.\u001b[0m\u001b[0mcorr\u001b[0m\u001b[0;34m(\u001b[0m\u001b[0;34m)\u001b[0m\u001b[0;34m,\u001b[0m \u001b[0mannot\u001b[0m\u001b[0;34m=\u001b[0m\u001b[0;32mTrue\u001b[0m\u001b[0;34m,\u001b[0m \u001b[0mcmap\u001b[0m \u001b[0;34m=\u001b[0m \u001b[0;34m'Reds'\u001b[0m\u001b[0;34m)\u001b[0m\u001b[0;34m\u001b[0m\u001b[0;34m\u001b[0m\u001b[0m\n\u001b[0m\u001b[1;32m      5\u001b[0m \u001b[0mplt\u001b[0m\u001b[0;34m.\u001b[0m\u001b[0mshow\u001b[0m\u001b[0;34m(\u001b[0m\u001b[0;34m)\u001b[0m\u001b[0;34m\u001b[0m\u001b[0;34m\u001b[0m\u001b[0m\n",
      "\u001b[0;32m~/anaconda3/lib/python3.7/site-packages/seaborn/matrix.py\u001b[0m in \u001b[0;36mheatmap\u001b[0;34m(data, vmin, vmax, cmap, center, robust, annot, fmt, annot_kws, linewidths, linecolor, cbar, cbar_kws, cbar_ax, square, xticklabels, yticklabels, mask, ax, **kwargs)\u001b[0m\n\u001b[1;32m    515\u001b[0m     plotter = _HeatMapper(data, vmin, vmax, cmap, center, robust, annot, fmt,\n\u001b[1;32m    516\u001b[0m                           \u001b[0mannot_kws\u001b[0m\u001b[0;34m,\u001b[0m \u001b[0mcbar\u001b[0m\u001b[0;34m,\u001b[0m \u001b[0mcbar_kws\u001b[0m\u001b[0;34m,\u001b[0m \u001b[0mxticklabels\u001b[0m\u001b[0;34m,\u001b[0m\u001b[0;34m\u001b[0m\u001b[0;34m\u001b[0m\u001b[0m\n\u001b[0;32m--> 517\u001b[0;31m                           yticklabels, mask)\n\u001b[0m\u001b[1;32m    518\u001b[0m \u001b[0;34m\u001b[0m\u001b[0m\n\u001b[1;32m    519\u001b[0m     \u001b[0;31m# Add the pcolormesh kwargs here\u001b[0m\u001b[0;34m\u001b[0m\u001b[0;34m\u001b[0m\u001b[0;34m\u001b[0m\u001b[0m\n",
      "\u001b[0;32m~/anaconda3/lib/python3.7/site-packages/seaborn/matrix.py\u001b[0m in \u001b[0;36m__init__\u001b[0;34m(self, data, vmin, vmax, cmap, center, robust, annot, fmt, annot_kws, cbar, cbar_kws, xticklabels, yticklabels, mask)\u001b[0m\n\u001b[1;32m    165\u001b[0m         \u001b[0;31m# Determine good default values for the colormapping\u001b[0m\u001b[0;34m\u001b[0m\u001b[0;34m\u001b[0m\u001b[0;34m\u001b[0m\u001b[0m\n\u001b[1;32m    166\u001b[0m         self._determine_cmap_params(plot_data, vmin, vmax,\n\u001b[0;32m--> 167\u001b[0;31m                                     cmap, center, robust)\n\u001b[0m\u001b[1;32m    168\u001b[0m \u001b[0;34m\u001b[0m\u001b[0m\n\u001b[1;32m    169\u001b[0m         \u001b[0;31m# Sort out the annotations\u001b[0m\u001b[0;34m\u001b[0m\u001b[0;34m\u001b[0m\u001b[0;34m\u001b[0m\u001b[0m\n",
      "\u001b[0;32m~/anaconda3/lib/python3.7/site-packages/seaborn/matrix.py\u001b[0m in \u001b[0;36m_determine_cmap_params\u001b[0;34m(self, plot_data, vmin, vmax, cmap, center, robust)\u001b[0m\n\u001b[1;32m    204\u001b[0m         \u001b[0mcalc_data\u001b[0m \u001b[0;34m=\u001b[0m \u001b[0mplot_data\u001b[0m\u001b[0;34m.\u001b[0m\u001b[0mdata\u001b[0m\u001b[0;34m[\u001b[0m\u001b[0;34m~\u001b[0m\u001b[0mnp\u001b[0m\u001b[0;34m.\u001b[0m\u001b[0misnan\u001b[0m\u001b[0;34m(\u001b[0m\u001b[0mplot_data\u001b[0m\u001b[0;34m.\u001b[0m\u001b[0mdata\u001b[0m\u001b[0;34m)\u001b[0m\u001b[0;34m]\u001b[0m\u001b[0;34m\u001b[0m\u001b[0;34m\u001b[0m\u001b[0m\n\u001b[1;32m    205\u001b[0m         \u001b[0;32mif\u001b[0m \u001b[0mvmin\u001b[0m \u001b[0;32mis\u001b[0m \u001b[0;32mNone\u001b[0m\u001b[0;34m:\u001b[0m\u001b[0;34m\u001b[0m\u001b[0;34m\u001b[0m\u001b[0m\n\u001b[0;32m--> 206\u001b[0;31m             \u001b[0mvmin\u001b[0m \u001b[0;34m=\u001b[0m \u001b[0mnp\u001b[0m\u001b[0;34m.\u001b[0m\u001b[0mpercentile\u001b[0m\u001b[0;34m(\u001b[0m\u001b[0mcalc_data\u001b[0m\u001b[0;34m,\u001b[0m \u001b[0;36m2\u001b[0m\u001b[0;34m)\u001b[0m \u001b[0;32mif\u001b[0m \u001b[0mrobust\u001b[0m \u001b[0;32melse\u001b[0m \u001b[0mcalc_data\u001b[0m\u001b[0;34m.\u001b[0m\u001b[0mmin\u001b[0m\u001b[0;34m(\u001b[0m\u001b[0;34m)\u001b[0m\u001b[0;34m\u001b[0m\u001b[0;34m\u001b[0m\u001b[0m\n\u001b[0m\u001b[1;32m    207\u001b[0m         \u001b[0;32mif\u001b[0m \u001b[0mvmax\u001b[0m \u001b[0;32mis\u001b[0m \u001b[0;32mNone\u001b[0m\u001b[0;34m:\u001b[0m\u001b[0;34m\u001b[0m\u001b[0;34m\u001b[0m\u001b[0m\n\u001b[1;32m    208\u001b[0m             \u001b[0mvmax\u001b[0m \u001b[0;34m=\u001b[0m \u001b[0mnp\u001b[0m\u001b[0;34m.\u001b[0m\u001b[0mpercentile\u001b[0m\u001b[0;34m(\u001b[0m\u001b[0mcalc_data\u001b[0m\u001b[0;34m,\u001b[0m \u001b[0;36m98\u001b[0m\u001b[0;34m)\u001b[0m \u001b[0;32mif\u001b[0m \u001b[0mrobust\u001b[0m \u001b[0;32melse\u001b[0m \u001b[0mcalc_data\u001b[0m\u001b[0;34m.\u001b[0m\u001b[0mmax\u001b[0m\u001b[0;34m(\u001b[0m\u001b[0;34m)\u001b[0m\u001b[0;34m\u001b[0m\u001b[0;34m\u001b[0m\u001b[0m\n",
      "\u001b[0;32m~/anaconda3/lib/python3.7/site-packages/numpy/core/_methods.py\u001b[0m in \u001b[0;36m_amin\u001b[0;34m(a, axis, out, keepdims, initial)\u001b[0m\n\u001b[1;32m     30\u001b[0m def _amin(a, axis=None, out=None, keepdims=False,\n\u001b[1;32m     31\u001b[0m           initial=_NoValue):\n\u001b[0;32m---> 32\u001b[0;31m     \u001b[0;32mreturn\u001b[0m \u001b[0mumr_minimum\u001b[0m\u001b[0;34m(\u001b[0m\u001b[0ma\u001b[0m\u001b[0;34m,\u001b[0m \u001b[0maxis\u001b[0m\u001b[0;34m,\u001b[0m \u001b[0;32mNone\u001b[0m\u001b[0;34m,\u001b[0m \u001b[0mout\u001b[0m\u001b[0;34m,\u001b[0m \u001b[0mkeepdims\u001b[0m\u001b[0;34m,\u001b[0m \u001b[0minitial\u001b[0m\u001b[0;34m)\u001b[0m\u001b[0;34m\u001b[0m\u001b[0;34m\u001b[0m\u001b[0m\n\u001b[0m\u001b[1;32m     33\u001b[0m \u001b[0;34m\u001b[0m\u001b[0m\n\u001b[1;32m     34\u001b[0m def _sum(a, axis=None, dtype=None, out=None, keepdims=False,\n",
      "\u001b[0;31mValueError\u001b[0m: zero-size array to reduction operation minimum which has no identity"
     ]
    }
   ],
   "source": [
    "data_CM[['CMPRIOR','CMAENO', 'CMYN']].corr()\n",
    "\n",
    "#plot the correlation matrix of salary, balance and age in data dataframe.\n",
    "sns.heatmap(data_CM[['CMPRIOR','CMAENO', 'CMYN']].corr(), annot=True, cmap = 'Reds')\n",
    "plt.show()"
   ]
  }
 ],
 "metadata": {
  "kernelspec": {
   "display_name": "Python 3",
   "language": "python",
   "name": "python3"
  },
  "language_info": {
   "codemirror_mode": {
    "name": "ipython",
    "version": 3
   },
   "file_extension": ".py",
   "mimetype": "text/x-python",
   "name": "python",
   "nbconvert_exporter": "python",
   "pygments_lexer": "ipython3",
   "version": "3.7.4"
  }
 },
 "nbformat": 4,
 "nbformat_minor": 2
}
